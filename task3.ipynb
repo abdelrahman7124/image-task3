{
 "cells": [
  {
   "cell_type": "code",
   "execution_count": 1,
   "metadata": {},
   "outputs": [],
   "source": [
    "import cv2\n",
    "import numpy as np\n",
    "import os\n",
    "import matplotlib.pyplot as plt"
   ]
  },
  {
   "cell_type": "code",
   "execution_count": 2,
   "metadata": {},
   "outputs": [],
   "source": [
    "#read all the pictures in the pictures folder\n",
    "images =[]\n",
    "for file_name in os.listdir('pictures/t3'):\n",
    "     images.append(cv2.imread('pictures/t3/'+file_name))"
   ]
  },
  {
   "cell_type": "code",
   "execution_count": 3,
   "metadata": {},
   "outputs": [],
   "source": [
    "#copy all the images \n",
    "copy = []\n",
    "edges = []\n",
    "gray = []\n",
    "for i in range(len(images)):\n",
    "    copied = images[i].copy()\n",
    "    copy.append(copied)\n",
    "#convert to gray scale\n",
    "    Gray = copy[i].copy()\n",
    "    Gray = cv2.cvtColor(Gray, cv2.COLOR_BGR2GRAY)\n",
    "    gray.append(Gray)\n",
    "#filter the images\n",
    "    gray[i] = cv2.GaussianBlur(gray[i], (5, 5), 0)\n",
    "    gray[i] = cv2.medianBlur(gray[i], 5)\n",
    "#get the edges\n",
    "    Edges = cv2.Canny(gray[i], 2, 80)\n",
    "    edges.append(Edges)\n"
   ]
  },
  {
   "cell_type": "code",
   "execution_count": 4,
   "metadata": {},
   "outputs": [],
   "source": [
    "#apply contours\n",
    "contours = []\n",
    "for i in range(len(images)):\n",
    "    Contour,heirarchy = cv2.findContours(edges[i], cv2.RETR_EXTERNAL, cv2.CHAIN_APPROX_NONE)\n",
    "    contours.append(Contour)\n",
    "#draw the contours\n",
    "for i in range(len(images)):\n",
    "    #detecting the shape\n",
    "    for contour in contours[i]:\n",
    "        perimeter = cv2.arcLength(contour, True)\n",
    "        area = cv2.contourArea(contour)\n",
    "        circuilarity = 0\n",
    "        if perimeter != 0:\n",
    "            circuilarity = (4*np.pi*area)/(perimeter*perimeter)\n",
    "        approx = cv2.approxPolyDP(contour, 0.04*perimeter, True)\n",
    "        if (len(approx) == 3):\n",
    "            #triangle\n",
    "            cv2.drawContours(copy[i], [contour], 0, (255, 0, 0), 5)\n",
    "        elif (len(approx) == 4):\n",
    "            #square\n",
    "            cv2.drawContours(copy[i], [contour], 0, (0, 255, 0), 5)\n",
    "        elif circuilarity > 0.6:\n",
    "            #circle\n",
    "            cv2.drawContours(copy[i], [contour], 0, (0, 0, 255), 5)\n",
    "        else:\n",
    "            #x shape\n",
    "            cv2.drawContours(copy[i], [contour], 0, (255, 255, 0), 5)"
   ]
  },
  {
   "cell_type": "code",
   "execution_count": 5,
   "metadata": {},
   "outputs": [],
   "source": [
    "# Create a folder to save the images\n",
    "folder_name = \"output\"\n",
    "os.makedirs(folder_name, exist_ok=True)\n",
    "\n",
    "# Save the images in the folder\n",
    "for i, image in enumerate(copy):\n",
    "    file_name = f\"{folder_name}/image{i+1}.png\"\n",
    "    cv2.imwrite(file_name, image)"
   ]
  }
 ],
 "metadata": {
  "kernelspec": {
   "display_name": "Python 3",
   "language": "python",
   "name": "python3"
  },
  "language_info": {
   "codemirror_mode": {
    "name": "ipython",
    "version": 3
   },
   "file_extension": ".py",
   "mimetype": "text/x-python",
   "name": "python",
   "nbconvert_exporter": "python",
   "pygments_lexer": "ipython3",
   "version": "3.12.6"
  }
 },
 "nbformat": 4,
 "nbformat_minor": 2
}
