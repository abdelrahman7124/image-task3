{
 "cells": [
  {
   "cell_type": "code",
   "execution_count": 1,
   "metadata": {},
   "outputs": [],
   "source": [
    "import cv2\n",
    "import numpy as np\n",
    "import os"
   ]
  },
  {
   "cell_type": "code",
   "execution_count": 2,
   "metadata": {},
   "outputs": [],
   "source": [
    "#read all the pictures in the picrures folder\n",
    "images =[]\n",
    "images.append(cv2.imread('pictures/t3/frame1.png'))\n",
    "images.append(cv2.imread('pictures/t3/frame2.png'))\n",
    "images.append(cv2.imread('pictures/t3/frame3.png'))\n",
    "images.append(cv2.imread('pictures/t3/original.png'))\n",
    "images.append(cv2.imread('pictures/t3/real.jpg'))\n",
    "images.append(cv2.imread('pictures/t3/real2.jpg'))\n",
    "images.append(cv2.imread('pictures/t3/real3.jpg'))\n",
    "images.append(cv2.imread('pictures/t3/real4.png'))\n"
   ]
  },
  {
   "cell_type": "code",
   "execution_count": 3,
   "metadata": {},
   "outputs": [],
   "source": [
    "#copy all the images \n",
    "copy = []\n",
    "for i in range(len(images)):\n",
    "    copied = images[i].copy()\n",
    "    copy.append(copied)"
   ]
  },
  {
   "cell_type": "code",
   "execution_count": 4,
   "metadata": {},
   "outputs": [],
   "source": [
    "#convert to gray scale\n",
    "gray = []\n",
    "for img in images:\n",
    "    Gray = img.copy()\n",
    "    Gray = cv2.cvtColor(Gray, cv2.COLOR_BGR2GRAY)\n",
    "    gray.append(Gray)\n"
   ]
  },
  {
   "cell_type": "code",
   "execution_count": 5,
   "metadata": {},
   "outputs": [],
   "source": [
    "#filter the images\n",
    "for i in range(8):\n",
    "    gray[i] = cv2.GaussianBlur(gray[i], (5, 5), 0)\n",
    "    gray[i] = cv2.medianBlur(gray[i], 5)"
   ]
  },
  {
   "cell_type": "code",
   "execution_count": 6,
   "metadata": {},
   "outputs": [],
   "source": [
    "#get the edges\n",
    "edges = []\n",
    "for i in range(len(images)):\n",
    "    Edges = cv2.Canny(gray[i], 2, 80)\n",
    "    edges.append(Edges)"
   ]
  },
  {
   "cell_type": "code",
   "execution_count": 7,
   "metadata": {},
   "outputs": [],
   "source": [
    "#sharpen the edges\n",
    "edge=[]\n",
    "for i in range(8):\n",
    "    Edge = cv2.GaussianBlur(edges[i], (5, 5), 0)\n",
    "    Edge = cv2.subtract(Edge,cv2.medianBlur(Edge, 5))\n",
    "    edge.append(Edge)\n",
    "#copy to edges\n",
    "for i in range(8):\n",
    "    sharpen_factor=15\n",
    "    edges[i]=cv2.add(edges[i],edge[i]*sharpen_factor) "
   ]
  },
  {
   "cell_type": "code",
   "execution_count": 8,
   "metadata": {},
   "outputs": [],
   "source": [
    "#apply contours\n",
    "contours = []\n",
    "for i in range(len(images)):\n",
    "    Contour,heirarchy = cv2.findContours(edges[i], cv2.RETR_EXTERNAL, cv2.CHAIN_APPROX_NONE)\n",
    "    contours.append(Contour)\n",
    "#draw the contours\n",
    "for i in range(len(images)):\n",
    "    #detecting the shape\n",
    "    for contour in contours[i]:\n",
    "        approx = cv2.approxPolyDP(contour, 0.05*cv2.arcLength(contour, True), True)\n",
    "        if (len(approx) == 3):\n",
    "            #triangle\n",
    "            cv2.drawContours(copy[i], [contour], 0, (255, 0, 0), 5)\n",
    "        elif (len(approx) == 4):\n",
    "            #square\n",
    "            cv2.drawContours(copy[i], [contour], 0, (0, 255, 0), 5)\n",
    "        else:\n",
    "            #x shape\n",
    "            cv2.drawContours(copy[i], [contour], 0, (255, 255, 0), 3)\n",
    "\n",
    "#circle detection\n",
    "for i in range(8):\n",
    "    circles = cv2.HoughCircles(gray[i], method=cv2.HOUGH_GRADIENT, dp=1, minDist=20, param1=60, param2=25, minRadius=1, maxRadius=50)\n",
    "    if circles is not None:\n",
    "        circles = np.uint16(np.around(circles))\n",
    "        for circle in circles[0, :]:\n",
    "            center = (circle[0], circle[1])\n",
    "            radius = circle[2]\n",
    "            cv2.circle(copy[i], center, radius, (0, 0, 255), 8)"
   ]
  },
  {
   "cell_type": "code",
   "execution_count": 9,
   "metadata": {},
   "outputs": [],
   "source": [
    "# Create a folder to save the images\n",
    "folder_name = \"output\"\n",
    "os.makedirs(folder_name, exist_ok=True)\n",
    "\n",
    "# Save the images in the folder\n",
    "for i, image in enumerate(copy):\n",
    "    file_name = f\"{folder_name}/image{i+1}.png\"\n",
    "    cv2.imwrite(file_name, image)\n"
   ]
  }
 ],
 "metadata": {
  "kernelspec": {
   "display_name": "Python 3",
   "language": "python",
   "name": "python3"
  },
  "language_info": {
   "codemirror_mode": {
    "name": "ipython",
    "version": 3
   },
   "file_extension": ".py",
   "mimetype": "text/x-python",
   "name": "python",
   "nbconvert_exporter": "python",
   "pygments_lexer": "ipython3",
   "version": "3.12.5"
  }
 },
 "nbformat": 4,
 "nbformat_minor": 2
}
